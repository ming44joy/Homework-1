{
 "cells": [
  {
   "cell_type": "markdown",
   "id": "e59bcd01-99a2-4c36-bb71-694a8f61dc8e",
   "metadata": {},
   "source": [
    "# KC House Data\n",
    "\n",
    "Classifer models to predict price_gt_1M"
   ]
  },
  {
   "cell_type": "code",
   "execution_count": 5,
   "id": "905f239b-aaf3-4130-9769-e474d77f2f7f",
   "metadata": {},
   "outputs": [
    {
     "name": "stdout",
     "output_type": "stream",
     "text": [
      "The autoreload extension is already loaded. To reload it, use:\n",
      "  %reload_ext autoreload\n"
     ]
    }
   ],
   "source": [
    "# To auto-reload modules in jupyter notebook (so that changes in files *.py doesn't require manual reloading):\n",
    "# https://stackoverflow.com/questions/5364050/reloading-submodules-in-ipython\n",
    "%load_ext autoreload\n",
    "%autoreload 2"
   ]
  },
  {
   "cell_type": "markdown",
   "id": "cd5b88fe-f115-49e8-be65-8be0347f6655",
   "metadata": {},
   "source": [
    "> Import libraries and magic command for inline plotting"
   ]
  },
  {
   "cell_type": "code",
   "execution_count": 6,
   "id": "3e53e5a1-a025-4a57-a69f-606c447f3883",
   "metadata": {},
   "outputs": [],
   "source": [
    "import numpy as np\n",
    "import pandas as pd\n",
    "import matplotlib.pyplot as plt\n",
    "import seaborn as sns\n",
    "\n",
    "\n",
    "\n",
    "import warnings\n",
    "warnings.filterwarnings(\"ignore\")"
   ]
  },
  {
   "cell_type": "code",
   "execution_count": 7,
   "id": "5c991cd7-6860-4e9d-99c9-4c85676f95c7",
   "metadata": {},
   "outputs": [],
   "source": [
    "%matplotlib inline"
   ]
  },
  {
   "cell_type": "code",
   "execution_count": null,
   "id": "15b1ff45-044c-4668-a45d-e97cf60ed99c",
   "metadata": {},
   "outputs": [],
   "source": [
    "!conda list | findstr \"pandas-profiling\""
   ]
  },
  {
   "cell_type": "code",
   "execution_count": null,
   "id": "8089d81c-37a6-4c7c-aa16-a8142232c160",
   "metadata": {},
   "outputs": [],
   "source": [
    "!conda list | findstr \"pydantic-settings\""
   ]
  },
  {
   "cell_type": "code",
   "execution_count": null,
   "id": "58f3dc70-72a3-4f98-8fbb-7c69b75b55aa",
   "metadata": {},
   "outputs": [],
   "source": [
    "!conda list | findstr \"skimpy\""
   ]
  },
  {
   "cell_type": "code",
   "execution_count": null,
   "id": "114142aa-4530-47db-9d98-957cb09498b6",
   "metadata": {},
   "outputs": [],
   "source": [
    "# pip install sweetviz"
   ]
  },
  {
   "cell_type": "code",
   "execution_count": null,
   "id": "5bdc617b-c69e-4188-a2f7-d516b9e86f77",
   "metadata": {},
   "outputs": [],
   "source": [
    "# pip show pandas-profiling"
   ]
  },
  {
   "cell_type": "code",
   "execution_count": null,
   "id": "0132a064-01c5-4ea6-973b-9b1f68c6c81c",
   "metadata": {},
   "outputs": [],
   "source": [
    "# !pip install pydantic-settings"
   ]
  },
  {
   "cell_type": "code",
   "execution_count": null,
   "id": "d4b8b4b9-356e-4e44-9995-8865e91b0665",
   "metadata": {},
   "outputs": [],
   "source": [
    "# !pip install skimpy"
   ]
  },
  {
   "cell_type": "code",
   "execution_count": null,
   "id": "3cefc0e1-ea40-4383-b4b8-8ce6df584299",
   "metadata": {},
   "outputs": [],
   "source": [
    "# pip install category_encoders"
   ]
  },
  {
   "cell_type": "markdown",
   "id": "1e1f926e-d614-495c-871b-4de81a17ef6f",
   "metadata": {},
   "source": [
    "### Task 3 - EDA"
   ]
  },
  {
   "cell_type": "code",
   "execution_count": 8,
   "id": "a2a918e3-0be7-4492-a0c5-bf285109aeb0",
   "metadata": {},
   "outputs": [
    {
     "name": "stdout",
     "output_type": "stream",
     "text": [
      "Number if rows and columns: (21613, 19)\n",
      "\n",
      "Data types:\n",
      "bedrooms           int64\n",
      "bathrooms        float64\n",
      "sqft_living        int64\n",
      "sqft_lot           int64\n",
      "floors           float64\n",
      "waterfront         int64\n",
      "view               int64\n",
      "condition          int64\n",
      "grade              int64\n",
      "sqft_above         int64\n",
      "sqft_basement      int64\n",
      "yr_built           int64\n",
      "yr_renovated       int64\n",
      "zipcode            int64\n",
      "lat              float64\n",
      "long             float64\n",
      "sqft_living15      int64\n",
      "sqft_lot15         int64\n",
      "price_gt_1M        int64\n",
      "dtype: object\n",
      "\n",
      "Summary stats:\n",
      "           bedrooms     bathrooms   sqft_living      sqft_lot        floors  \\\n",
      "count  21613.000000  21613.000000  21613.000000  2.161300e+04  21613.000000   \n",
      "mean       3.370842      2.114757   2079.899736  1.510697e+04      1.494309   \n",
      "std        0.930062      0.770163    918.440897  4.142051e+04      0.539989   \n",
      "min        0.000000      0.000000    290.000000  5.200000e+02      1.000000   \n",
      "25%        3.000000      1.750000   1427.000000  5.040000e+03      1.000000   \n",
      "50%        3.000000      2.250000   1910.000000  7.618000e+03      1.500000   \n",
      "75%        4.000000      2.500000   2550.000000  1.068800e+04      2.000000   \n",
      "max       33.000000      8.000000  13540.000000  1.651359e+06      3.500000   \n",
      "\n",
      "         waterfront          view     condition         grade    sqft_above  \\\n",
      "count  21613.000000  21613.000000  21613.000000  21613.000000  21613.000000   \n",
      "mean       0.007542      0.234303      3.409430      7.656873   1788.390691   \n",
      "std        0.086517      0.766318      0.650743      1.175459    828.090978   \n",
      "min        0.000000      0.000000      1.000000      1.000000    290.000000   \n",
      "25%        0.000000      0.000000      3.000000      7.000000   1190.000000   \n",
      "50%        0.000000      0.000000      3.000000      7.000000   1560.000000   \n",
      "75%        0.000000      0.000000      4.000000      8.000000   2210.000000   \n",
      "max        1.000000      4.000000      5.000000     13.000000   9410.000000   \n",
      "\n",
      "       sqft_basement      yr_built  yr_renovated       zipcode           lat  \\\n",
      "count   21613.000000  21613.000000  21613.000000  21613.000000  21613.000000   \n",
      "mean      291.509045   1971.005136     84.402258  98077.939805     47.560053   \n",
      "std       442.575043     29.373411    401.679240     53.505026      0.138564   \n",
      "min         0.000000   1900.000000      0.000000  98001.000000     47.155900   \n",
      "25%         0.000000   1951.000000      0.000000  98033.000000     47.471000   \n",
      "50%         0.000000   1975.000000      0.000000  98065.000000     47.571800   \n",
      "75%       560.000000   1997.000000      0.000000  98118.000000     47.678000   \n",
      "max      4820.000000   2015.000000   2015.000000  98199.000000     47.777600   \n",
      "\n",
      "               long  sqft_living15     sqft_lot15   price_gt_1M  \n",
      "count  21613.000000   21613.000000   21613.000000  21613.000000  \n",
      "mean    -122.213896    1986.552492   12768.455652      0.069033  \n",
      "std        0.140828     685.391304   27304.179631      0.253515  \n",
      "min     -122.519000     399.000000     651.000000      0.000000  \n",
      "25%     -122.328000    1490.000000    5100.000000      0.000000  \n",
      "50%     -122.230000    1840.000000    7620.000000      0.000000  \n",
      "75%     -122.125000    2360.000000   10083.000000      0.000000  \n",
      "max     -121.315000    6210.000000  871200.000000      1.000000  \n",
      "\n",
      "Missing values:\n",
      "bedrooms         0\n",
      "bathrooms        0\n",
      "sqft_living      0\n",
      "sqft_lot         0\n",
      "floors           0\n",
      "waterfront       0\n",
      "view             0\n",
      "condition        0\n",
      "grade            0\n",
      "sqft_above       0\n",
      "sqft_basement    0\n",
      "yr_built         0\n",
      "yr_renovated     0\n",
      "zipcode          0\n",
      "lat              0\n",
      "long             0\n",
      "sqft_living15    0\n",
      "sqft_lot15       0\n",
      "price_gt_1M      0\n",
      "dtype: int64\n",
      "[0 1]\n"
     ]
    }
   ],
   "source": [
    "# Read CSV file into pandas dataframe\n",
    "housing_df = pd.read_csv(\"kc_house_data_classification.csv\")\n",
    "\n",
    "# Data Summary \n",
    "print(\"Number if rows and columns:\", housing_df.shape)\n",
    "print(\"\\nData types:\")\n",
    "print(housing_df.dtypes)\n",
    "print(\"\\nSummary stats:\")\n",
    "print(housing_df.describe())\n",
    "\n",
    "# Missing Values\n",
    "missing_values = housing_df.isnull().sum()\n",
    "print(\"\\nMissing values:\")\n",
    "print(missing_values)\n",
    "\n",
    "# Check if price_gt_1M is binary \n",
    "print(housing_df['price_gt_1M'].unique())"
   ]
  },
  {
   "cell_type": "code",
   "execution_count": null,
   "id": "13558a82-2766-45f1-afb1-25fdca40ce58",
   "metadata": {},
   "outputs": [],
   "source": [
    "import sweetviz"
   ]
  },
  {
   "cell_type": "code",
   "execution_count": null,
   "id": "c23f79f8-8c26-44a3-a17e-ff0993463c2f",
   "metadata": {},
   "outputs": [],
   "source": [
    "report = sweetviz.analyze(housing_df)"
   ]
  },
  {
   "cell_type": "code",
   "execution_count": null,
   "id": "cdd3b880-07ea-401f-9cd1-cec02460ac06",
   "metadata": {},
   "outputs": [],
   "source": [
    "report.show_html(\"output/sweetviz_report.html\")"
   ]
  },
  {
   "cell_type": "markdown",
   "id": "20e3d478-44d5-4f3a-b99f-b12d3b226c60",
   "metadata": {},
   "source": [
    "### Manual EDA"
   ]
  },
  {
   "cell_type": "code",
   "execution_count": null,
   "id": "60e8fd7c-2920-451e-a5a3-5a245b57df1a",
   "metadata": {},
   "outputs": [],
   "source": [
    "# Distribution of Target Variable\n",
    "custom_color = [\"#FF69B4\", \"#6A0DAD\"]\n",
    "# Set style\n",
    "sns.set(style=\"whitegrid\")\n",
    "\n",
    "plt.figure(figsize=(8,6))\n",
    "sns.countplot(x=housing_df['price_gt_1M'], palette=custom_color)\n",
    "plt.title(\"Distribution of House Prices\")\n",
    "plt.xlabel(\"Price\") \n",
    "plt.ylabel(\"Frequency\")\n",
    "plt.xticks([0, 1], ['Price <= 1M', 'Price > 1M']) # x-axis labels \n",
    "plt.show()\n"
   ]
  },
  {
   "cell_type": "code",
   "execution_count": null,
   "id": "7df59d0f-c533-43b5-97b9-048cf928c286",
   "metadata": {},
   "outputs": [],
   "source": [
    "# Custom color palette\n",
    "# Hot pink and dark purple\n",
    "custom_color_scatter = [\"#FF69B4\", \"#6A0DAD\"]\n",
    "custom_palette = [\"#6A0DAD\"]\n",
    "\n",
    "# Set color palette\n",
    "# sns.set_palette(custom_color)\n",
    "               \n",
    "# Set plot style\n",
    "sns.set(style=\"whitegrid\")\n",
    "\n",
    "# Identify numerical and categorical columns\n",
    "numerical_cols = housing_df.select_dtypes(include=np.number).columns.tolist()\n",
    "categorical_cols = housing_df.select_dtypes(include=['object', 'category']).columns.tolist()\n",
    "\n",
    "# Exclude target variable price_gt_1M from numerical columns \n",
    "target_variable = \"price_gt_1M\"\n",
    "if target_variable in numerical_cols:\n",
    "    numerical_cols.remove(target_variable)\n",
    "\n",
    "# Feature distributions\n",
    "for col in numerical_cols:\n",
    "    plt.figure(figsize=(6, 4))\n",
    "    if col in ['zipcode', 'lat', 'long', 'sqft_lot', 'floors', 'yr_renovated', 'sqft_lot15']:\n",
    "        print(f\"Not showing distribution plot for {col} because it's not suitable for this kind of plot\")\n",
    "        continue\n",
    "    if col in ['waterfront', 'view', 'condition']:\n",
    "        sns.countplot(x=col, data=housing_df, palette=\"Purples\")\n",
    "        plt.title(f\"Distribution of {col}\")\n",
    "        plt.xlabel(col)\n",
    "        plt.ylabel(\"Count\")\n",
    "        plt.show()\n",
    "    else:\n",
    "        sns.histplot(housing_df[col], bins=20, kde=True, color=custom_palette[0])\n",
    "        plt.title(f\"Distribution of {col}\")\n",
    "        plt.xlabel(col)\n",
    "        plt.ylabel(\"Frequency\")\n",
    "        plt.show()\n",
    "\n",
    "# Scatter plot\n",
    "plt.figure(figsize=(8, 6))\n",
    "sns.scatterplot(x='long', y='lat', hue='price_gt_1M', data=housing_df, alpha=0.5, palette=custom_color_scatter)\n",
    "plt.title(\"Geographic Distribution of Properties\")\n",
    "plt.xlabel(\"Longitude\")\n",
    "plt.ylabel(\"Latitude\")\n",
    "plt.show()\n",
    "\n",
    "# Bar plot\n",
    "plt.figure(figsize=(16, 6))\n",
    "sns.countplot(x='zipcode', data=housing_df)\n",
    "plt.title(\"Distribution of Properties by Zipcode\")\n",
    "plt.xlabel(\"Zipcode\")\n",
    "plt.ylabel(\"Count\")\n",
    "plt.xticks(rotation=90)\n",
    "plt.show()      \n"
   ]
  },
  {
   "cell_type": "code",
   "execution_count": null,
   "id": "8bb586ea-f46f-4370-930f-bb9f5961cfe7",
   "metadata": {},
   "outputs": [],
   "source": [
    "# Correlation Matrix\n",
    "correlation_matrix = housing_df.corr()\n",
    "plt.figure(figsize=(10, 8))\n",
    "sns.heatmap(correlation_matrix, annot=True, cmap=\"Purples\", fmt=\".2f\")\n",
    "plt.title(\"Correlation Matrix\")\n",
    "plt.show()\n"
   ]
  },
  {
   "cell_type": "code",
   "execution_count": null,
   "id": "e8bc1fa8-001b-4df7-b5a3-452a6bf5fcca",
   "metadata": {},
   "outputs": [],
   "source": [
    "housing_df.shape"
   ]
  },
  {
   "cell_type": "code",
   "execution_count": null,
   "id": "c3c32f2a-0693-496a-beb9-a86096209f48",
   "metadata": {},
   "outputs": [],
   "source": [
    "housing_df.columns"
   ]
  },
  {
   "cell_type": "code",
   "execution_count": null,
   "id": "88528199-7354-43f7-825a-b91dad18fb1f",
   "metadata": {},
   "outputs": [],
   "source": [
    "housing_df.isna().sum()"
   ]
  },
  {
   "cell_type": "code",
   "execution_count": null,
   "id": "7dc1f1ce-efef-4a94-818c-d7e9e393e9f2",
   "metadata": {},
   "outputs": [],
   "source": [
    "# cols_to_keep = [\n",
    "#    'price_gt_1M', 'sqft_living', 'grade', 'sqft_above', 'sqft_living15', 'bathrooms',\n",
    "#                   'floors', 'yr_renovated', 'lat', 'bedrooms', 'yr_built', 'sqft_basement', 'long'\n",
    "# ]"
   ]
  },
  {
   "cell_type": "markdown",
   "id": "091c0347-5562-4eb3-8e66-f6b4cbb5dfc6",
   "metadata": {},
   "source": [
    "> We need to find and remove any duplicate rows. If we don't remove them it could affect model performance, like overfitting. "
   ]
  },
  {
   "cell_type": "code",
   "execution_count": 9,
   "id": "cb0d511c-523a-4ce2-9053-9353d67b2b4b",
   "metadata": {},
   "outputs": [
    {
     "name": "stdout",
     "output_type": "stream",
     "text": [
      "Number of duplicate rows: 184\n",
      "Number of rows after removing duplicates: 21429\n"
     ]
    }
   ],
   "source": [
    "# Check for duplicate rows\n",
    "duplicates = housing_df.duplicated()\n",
    "print(f\"Number of duplicate rows: {duplicates.sum()}\")\n",
    "\n",
    "# Remove duplicate rows\n",
    "housing_df = housing_df.drop_duplicates()\n",
    "\n",
    "# Verify that duplicates are removed\n",
    "print(f\"Number of rows after removing duplicates: {housing_df.shape[0]}\")"
   ]
  },
  {
   "cell_type": "code",
   "execution_count": 10,
   "id": "4794f7fe-95ca-48d4-9f3b-9904a24ec637",
   "metadata": {},
   "outputs": [],
   "source": [
    "X = housing_df.iloc[:, 0:18]\n",
    "y = housing_df.iloc[:, 18]"
   ]
  },
  {
   "cell_type": "code",
   "execution_count": 11,
   "id": "57426bcc-f6a0-44be-98fa-e1ef2d7751af",
   "metadata": {},
   "outputs": [
    {
     "data": {
      "text/plain": [
       "(21429, 18)"
      ]
     },
     "execution_count": 11,
     "metadata": {},
     "output_type": "execute_result"
    }
   ],
   "source": [
    "X.shape"
   ]
  },
  {
   "cell_type": "code",
   "execution_count": 12,
   "id": "33804dfc-82f0-481f-8ce7-6b17d9039d6f",
   "metadata": {},
   "outputs": [
    {
     "data": {
      "text/plain": [
       "(21429,)"
      ]
     },
     "execution_count": 12,
     "metadata": {},
     "output_type": "execute_result"
    }
   ],
   "source": [
    "y.shape"
   ]
  },
  {
   "cell_type": "code",
   "execution_count": null,
   "id": "6bd4674a-fbf7-477f-89a5-6fa2da2efc25",
   "metadata": {},
   "outputs": [],
   "source": [
    "### Task 4"
   ]
  },
  {
   "cell_type": "code",
   "execution_count": 13,
   "id": "47013033-85ec-40cc-a3c9-242dd4e2d0f6",
   "metadata": {},
   "outputs": [],
   "source": [
    "from sklearn.linear_model import LogisticRegression"
   ]
  },
  {
   "cell_type": "code",
   "execution_count": 14,
   "id": "c7619ad2-a13c-4485-ac00-6abf243cc6dc",
   "metadata": {},
   "outputs": [],
   "source": [
    "clf_model = LogisticRegression(penalty='l2', C=1, solver='saga', max_iter=2000)"
   ]
  },
  {
   "cell_type": "code",
   "execution_count": 15,
   "id": "8460818a-7cdf-4863-9338-ec8752389fd6",
   "metadata": {},
   "outputs": [
    {
     "data": {
      "text/plain": [
       "0.9456344310612665"
      ]
     },
     "execution_count": 15,
     "metadata": {},
     "output_type": "execute_result"
    }
   ],
   "source": [
    "from sklearn.model_selection import cross_val_score\n",
    "\n",
    "# Cross validation\n",
    "cross_val_score(clf_model, X, y, cv=5, scoring='accuracy').mean()"
   ]
  },
  {
   "cell_type": "markdown",
   "id": "a298ba79-0f60-4c8e-bfd1-2888f592990b",
   "metadata": {},
   "source": [
    "> A higher mean accuracy score indicates that the model performs better. Cross validation is useful for assessing the general performance of the model.\n"
   ]
  },
  {
   "cell_type": "markdown",
   "id": "b3ec44ff-e779-4eae-9784-bd0f5cbcce64",
   "metadata": {},
   "source": [
    ">This function returns the proportion of each unique value. The zero category value will be the same as your null model accuracy."
   ]
  },
  {
   "cell_type": "code",
   "execution_count": 16,
   "id": "20dc8c89-f24d-4a18-bb15-63e72b39c871",
   "metadata": {},
   "outputs": [
    {
     "data": {
      "text/plain": [
       "price_gt_1M\n",
       "0    0.930655\n",
       "1    0.069345\n",
       "Name: proportion, dtype: float64"
      ]
     },
     "execution_count": 16,
     "metadata": {},
     "output_type": "execute_result"
    }
   ],
   "source": [
    "y.value_counts(normalize=True)"
   ]
  },
  {
   "cell_type": "code",
   "execution_count": 20,
   "id": "d8b5a9e0-878e-4224-91c7-0c124d0f3c2d",
   "metadata": {},
   "outputs": [
    {
     "data": {
      "text/plain": [
       "<bound method NDFrame.head of          0    1\n",
       "0      1.0  0.0\n",
       "1      0.0  1.0\n",
       "2      1.0  0.0\n",
       "3      1.0  0.0\n",
       "4      1.0  0.0\n",
       "...    ...  ...\n",
       "21424  1.0  0.0\n",
       "21425  1.0  0.0\n",
       "21426  1.0  0.0\n",
       "21427  1.0  0.0\n",
       "21428  1.0  0.0\n",
       "\n",
       "[21429 rows x 2 columns]>"
      ]
     },
     "execution_count": 20,
     "metadata": {},
     "output_type": "execute_result"
    }
   ],
   "source": [
    "from sklearn.preprocessing import OneHotEncoder\n",
    "\n",
    "housing_df[\"yr_renovated_binary\"] = (housing_df[\"yr_renovated\"] > 0).astype(int)\n",
    "oe_style = OneHotEncoder()\n",
    "oe_results = oe_style.fit_transform(housing_df[[\"yr_renovated_binary\"]])\n",
    "result_df = pd.DataFrame(oe_results.toarray(), columns=oe_style.categories_[0])\n",
    "\n",
    "result_df.head\n"
   ]
  },
  {
   "cell_type": "code",
   "execution_count": 21,
   "id": "b15c74e1-6607-445d-bcd0-0ed18c1d7c4b",
   "metadata": {},
   "outputs": [
    {
     "data": {
      "text/plain": [
       "[array([0, 1])]"
      ]
     },
     "execution_count": 21,
     "metadata": {},
     "output_type": "execute_result"
    }
   ],
   "source": [
    "# Confirm categories in array\n",
    "oe_style.categories_"
   ]
  },
  {
   "cell_type": "markdown",
   "id": "4ecb032c-321c-4220-8651-9a1372662201",
   "metadata": {},
   "source": [
    "> This code drops yr_renovated and price_gt_1M. We don't need yr_renovated because we created yr_renovated_binary. We don't want our target variable in our feature matrix. "
   ]
  },
  {
   "cell_type": "markdown",
   "id": "75e21f97-ab9d-43dc-a88f-546b6fa3d3f0",
   "metadata": {},
   "source": [
    "### Data preprocessing - Variable type list"
   ]
  },
  {
   "cell_type": "code",
   "execution_count": 22,
   "id": "d57b72a8-e90e-49f6-a4aa-ef11a0f4341e",
   "metadata": {},
   "outputs": [
    {
     "name": "stdout",
     "output_type": "stream",
     "text": [
      "['floors', 'yr_renovated_binary', 'bedrooms']\n"
     ]
    },
    {
     "data": {
      "text/plain": [
       "['bathrooms',\n",
       " 'sqft_living',\n",
       " 'sqft_lot',\n",
       " 'waterfront',\n",
       " 'view',\n",
       " 'condition',\n",
       " 'grade',\n",
       " 'sqft_above',\n",
       " 'sqft_basement',\n",
       " 'yr_built',\n",
       " 'yr_renovated',\n",
       " 'zipcode',\n",
       " 'lat',\n",
       " 'long',\n",
       " 'sqft_living15',\n",
       " 'sqft_lot15']"
      ]
     },
     "execution_count": 22,
     "metadata": {},
     "output_type": "execute_result"
    }
   ],
   "source": [
    "# Define categorical and numeric columns\n",
    "all_cols = X.columns.tolist()\n",
    "\n",
    "categorical_cols = ['floors', 'yr_renovated_binary', 'bedrooms']\n",
    "print(categorical_cols)\n",
    "\n",
    "numeric_cols = [col for col in all_cols if col not in categorical_cols]\n",
    "numeric_cols"
   ]
  },
  {
   "cell_type": "code",
   "execution_count": 23,
   "id": "66eb494e-18a3-4ab4-a2e1-8404fca3541c",
   "metadata": {},
   "outputs": [],
   "source": [
    "# Convert categorical columns to category type\n",
    "for col in categorical_cols:\n",
    "    housing_df[col] = housing_df[col].astype('category')"
   ]
  },
  {
   "cell_type": "markdown",
   "id": "e4ea2717-72d3-499f-b602-fe253e10fb75",
   "metadata": {},
   "source": [
    "> Because we are doing regularize logistic regression we need to rescale our numeric variables so the units of measurement doesn't affect our model fit. Then we need to combine transformer into a prepocessor step, create a classifier model and a pipeline. "
   ]
  },
  {
   "cell_type": "code",
   "execution_count": 24,
   "id": "1f2981cf-6923-4254-95e6-5abd223e1794",
   "metadata": {},
   "outputs": [],
   "source": [
    "from sklearn.pipeline import Pipeline\n",
    "from sklearn.compose import ColumnTransformer\n",
    "from sklearn.preprocessing import StandardScaler, OneHotEncoder\n",
    "\n",
    "# Create transformer objects\n",
    "numeric_transformer = StandardScaler()\n",
    "categorical_transformer = OneHotEncoder(handle_unknown='ignore')\n",
    "\n",
    "# Combine transformers into a preprocessor step\n",
    "preprocessor = ColumnTransformer(\n",
    "    transformers=[\n",
    "        ('num', numeric_transformer, numeric_cols),\n",
    "        ('cat', categorical_transformer, categorical_cols)])\n",
    "\n",
    "# Classifier model\n",
    "# clf_model = LogisticRegression(penalty='l2', C=1, solver='saga', max_iter=500)\n",
    "\n",
    "# Append classifier to preprocessing pipeline.\n",
    "# Now we have a full prediction pipeline.\n",
    "clf = Pipeline(steps=[('preprocessor', preprocessor),\n",
    "                      ('classifier', clf_model)])"
   ]
  },
  {
   "cell_type": "code",
   "execution_count": 25,
   "id": "e9c1b890-e6bd-4015-81ae-933743af67ce",
   "metadata": {},
   "outputs": [
    {
     "data": {
      "text/html": [
       "<style>#sk-container-id-1 {\n",
       "  /* Definition of color scheme common for light and dark mode */\n",
       "  --sklearn-color-text: black;\n",
       "  --sklearn-color-line: gray;\n",
       "  /* Definition of color scheme for unfitted estimators */\n",
       "  --sklearn-color-unfitted-level-0: #fff5e6;\n",
       "  --sklearn-color-unfitted-level-1: #f6e4d2;\n",
       "  --sklearn-color-unfitted-level-2: #ffe0b3;\n",
       "  --sklearn-color-unfitted-level-3: chocolate;\n",
       "  /* Definition of color scheme for fitted estimators */\n",
       "  --sklearn-color-fitted-level-0: #f0f8ff;\n",
       "  --sklearn-color-fitted-level-1: #d4ebff;\n",
       "  --sklearn-color-fitted-level-2: #b3dbfd;\n",
       "  --sklearn-color-fitted-level-3: cornflowerblue;\n",
       "\n",
       "  /* Specific color for light theme */\n",
       "  --sklearn-color-text-on-default-background: var(--sg-text-color, var(--theme-code-foreground, var(--jp-content-font-color1, black)));\n",
       "  --sklearn-color-background: var(--sg-background-color, var(--theme-background, var(--jp-layout-color0, white)));\n",
       "  --sklearn-color-border-box: var(--sg-text-color, var(--theme-code-foreground, var(--jp-content-font-color1, black)));\n",
       "  --sklearn-color-icon: #696969;\n",
       "\n",
       "  @media (prefers-color-scheme: dark) {\n",
       "    /* Redefinition of color scheme for dark theme */\n",
       "    --sklearn-color-text-on-default-background: var(--sg-text-color, var(--theme-code-foreground, var(--jp-content-font-color1, white)));\n",
       "    --sklearn-color-background: var(--sg-background-color, var(--theme-background, var(--jp-layout-color0, #111)));\n",
       "    --sklearn-color-border-box: var(--sg-text-color, var(--theme-code-foreground, var(--jp-content-font-color1, white)));\n",
       "    --sklearn-color-icon: #878787;\n",
       "  }\n",
       "}\n",
       "\n",
       "#sk-container-id-1 {\n",
       "  color: var(--sklearn-color-text);\n",
       "}\n",
       "\n",
       "#sk-container-id-1 pre {\n",
       "  padding: 0;\n",
       "}\n",
       "\n",
       "#sk-container-id-1 input.sk-hidden--visually {\n",
       "  border: 0;\n",
       "  clip: rect(1px 1px 1px 1px);\n",
       "  clip: rect(1px, 1px, 1px, 1px);\n",
       "  height: 1px;\n",
       "  margin: -1px;\n",
       "  overflow: hidden;\n",
       "  padding: 0;\n",
       "  position: absolute;\n",
       "  width: 1px;\n",
       "}\n",
       "\n",
       "#sk-container-id-1 div.sk-dashed-wrapped {\n",
       "  border: 1px dashed var(--sklearn-color-line);\n",
       "  margin: 0 0.4em 0.5em 0.4em;\n",
       "  box-sizing: border-box;\n",
       "  padding-bottom: 0.4em;\n",
       "  background-color: var(--sklearn-color-background);\n",
       "}\n",
       "\n",
       "#sk-container-id-1 div.sk-container {\n",
       "  /* jupyter's `normalize.less` sets `[hidden] { display: none; }`\n",
       "     but bootstrap.min.css set `[hidden] { display: none !important; }`\n",
       "     so we also need the `!important` here to be able to override the\n",
       "     default hidden behavior on the sphinx rendered scikit-learn.org.\n",
       "     See: https://github.com/scikit-learn/scikit-learn/issues/21755 */\n",
       "  display: inline-block !important;\n",
       "  position: relative;\n",
       "}\n",
       "\n",
       "#sk-container-id-1 div.sk-text-repr-fallback {\n",
       "  display: none;\n",
       "}\n",
       "\n",
       "div.sk-parallel-item,\n",
       "div.sk-serial,\n",
       "div.sk-item {\n",
       "  /* draw centered vertical line to link estimators */\n",
       "  background-image: linear-gradient(var(--sklearn-color-text-on-default-background), var(--sklearn-color-text-on-default-background));\n",
       "  background-size: 2px 100%;\n",
       "  background-repeat: no-repeat;\n",
       "  background-position: center center;\n",
       "}\n",
       "\n",
       "/* Parallel-specific style estimator block */\n",
       "\n",
       "#sk-container-id-1 div.sk-parallel-item::after {\n",
       "  content: \"\";\n",
       "  width: 100%;\n",
       "  border-bottom: 2px solid var(--sklearn-color-text-on-default-background);\n",
       "  flex-grow: 1;\n",
       "}\n",
       "\n",
       "#sk-container-id-1 div.sk-parallel {\n",
       "  display: flex;\n",
       "  align-items: stretch;\n",
       "  justify-content: center;\n",
       "  background-color: var(--sklearn-color-background);\n",
       "  position: relative;\n",
       "}\n",
       "\n",
       "#sk-container-id-1 div.sk-parallel-item {\n",
       "  display: flex;\n",
       "  flex-direction: column;\n",
       "}\n",
       "\n",
       "#sk-container-id-1 div.sk-parallel-item:first-child::after {\n",
       "  align-self: flex-end;\n",
       "  width: 50%;\n",
       "}\n",
       "\n",
       "#sk-container-id-1 div.sk-parallel-item:last-child::after {\n",
       "  align-self: flex-start;\n",
       "  width: 50%;\n",
       "}\n",
       "\n",
       "#sk-container-id-1 div.sk-parallel-item:only-child::after {\n",
       "  width: 0;\n",
       "}\n",
       "\n",
       "/* Serial-specific style estimator block */\n",
       "\n",
       "#sk-container-id-1 div.sk-serial {\n",
       "  display: flex;\n",
       "  flex-direction: column;\n",
       "  align-items: center;\n",
       "  background-color: var(--sklearn-color-background);\n",
       "  padding-right: 1em;\n",
       "  padding-left: 1em;\n",
       "}\n",
       "\n",
       "\n",
       "/* Toggleable style: style used for estimator/Pipeline/ColumnTransformer box that is\n",
       "clickable and can be expanded/collapsed.\n",
       "- Pipeline and ColumnTransformer use this feature and define the default style\n",
       "- Estimators will overwrite some part of the style using the `sk-estimator` class\n",
       "*/\n",
       "\n",
       "/* Pipeline and ColumnTransformer style (default) */\n",
       "\n",
       "#sk-container-id-1 div.sk-toggleable {\n",
       "  /* Default theme specific background. It is overwritten whether we have a\n",
       "  specific estimator or a Pipeline/ColumnTransformer */\n",
       "  background-color: var(--sklearn-color-background);\n",
       "}\n",
       "\n",
       "/* Toggleable label */\n",
       "#sk-container-id-1 label.sk-toggleable__label {\n",
       "  cursor: pointer;\n",
       "  display: block;\n",
       "  width: 100%;\n",
       "  margin-bottom: 0;\n",
       "  padding: 0.5em;\n",
       "  box-sizing: border-box;\n",
       "  text-align: center;\n",
       "}\n",
       "\n",
       "#sk-container-id-1 label.sk-toggleable__label-arrow:before {\n",
       "  /* Arrow on the left of the label */\n",
       "  content: \"▸\";\n",
       "  float: left;\n",
       "  margin-right: 0.25em;\n",
       "  color: var(--sklearn-color-icon);\n",
       "}\n",
       "\n",
       "#sk-container-id-1 label.sk-toggleable__label-arrow:hover:before {\n",
       "  color: var(--sklearn-color-text);\n",
       "}\n",
       "\n",
       "/* Toggleable content - dropdown */\n",
       "\n",
       "#sk-container-id-1 div.sk-toggleable__content {\n",
       "  max-height: 0;\n",
       "  max-width: 0;\n",
       "  overflow: hidden;\n",
       "  text-align: left;\n",
       "  /* unfitted */\n",
       "  background-color: var(--sklearn-color-unfitted-level-0);\n",
       "}\n",
       "\n",
       "#sk-container-id-1 div.sk-toggleable__content.fitted {\n",
       "  /* fitted */\n",
       "  background-color: var(--sklearn-color-fitted-level-0);\n",
       "}\n",
       "\n",
       "#sk-container-id-1 div.sk-toggleable__content pre {\n",
       "  margin: 0.2em;\n",
       "  border-radius: 0.25em;\n",
       "  color: var(--sklearn-color-text);\n",
       "  /* unfitted */\n",
       "  background-color: var(--sklearn-color-unfitted-level-0);\n",
       "}\n",
       "\n",
       "#sk-container-id-1 div.sk-toggleable__content.fitted pre {\n",
       "  /* unfitted */\n",
       "  background-color: var(--sklearn-color-fitted-level-0);\n",
       "}\n",
       "\n",
       "#sk-container-id-1 input.sk-toggleable__control:checked~div.sk-toggleable__content {\n",
       "  /* Expand drop-down */\n",
       "  max-height: 200px;\n",
       "  max-width: 100%;\n",
       "  overflow: auto;\n",
       "}\n",
       "\n",
       "#sk-container-id-1 input.sk-toggleable__control:checked~label.sk-toggleable__label-arrow:before {\n",
       "  content: \"▾\";\n",
       "}\n",
       "\n",
       "/* Pipeline/ColumnTransformer-specific style */\n",
       "\n",
       "#sk-container-id-1 div.sk-label input.sk-toggleable__control:checked~label.sk-toggleable__label {\n",
       "  color: var(--sklearn-color-text);\n",
       "  background-color: var(--sklearn-color-unfitted-level-2);\n",
       "}\n",
       "\n",
       "#sk-container-id-1 div.sk-label.fitted input.sk-toggleable__control:checked~label.sk-toggleable__label {\n",
       "  background-color: var(--sklearn-color-fitted-level-2);\n",
       "}\n",
       "\n",
       "/* Estimator-specific style */\n",
       "\n",
       "/* Colorize estimator box */\n",
       "#sk-container-id-1 div.sk-estimator input.sk-toggleable__control:checked~label.sk-toggleable__label {\n",
       "  /* unfitted */\n",
       "  background-color: var(--sklearn-color-unfitted-level-2);\n",
       "}\n",
       "\n",
       "#sk-container-id-1 div.sk-estimator.fitted input.sk-toggleable__control:checked~label.sk-toggleable__label {\n",
       "  /* fitted */\n",
       "  background-color: var(--sklearn-color-fitted-level-2);\n",
       "}\n",
       "\n",
       "#sk-container-id-1 div.sk-label label.sk-toggleable__label,\n",
       "#sk-container-id-1 div.sk-label label {\n",
       "  /* The background is the default theme color */\n",
       "  color: var(--sklearn-color-text-on-default-background);\n",
       "}\n",
       "\n",
       "/* On hover, darken the color of the background */\n",
       "#sk-container-id-1 div.sk-label:hover label.sk-toggleable__label {\n",
       "  color: var(--sklearn-color-text);\n",
       "  background-color: var(--sklearn-color-unfitted-level-2);\n",
       "}\n",
       "\n",
       "/* Label box, darken color on hover, fitted */\n",
       "#sk-container-id-1 div.sk-label.fitted:hover label.sk-toggleable__label.fitted {\n",
       "  color: var(--sklearn-color-text);\n",
       "  background-color: var(--sklearn-color-fitted-level-2);\n",
       "}\n",
       "\n",
       "/* Estimator label */\n",
       "\n",
       "#sk-container-id-1 div.sk-label label {\n",
       "  font-family: monospace;\n",
       "  font-weight: bold;\n",
       "  display: inline-block;\n",
       "  line-height: 1.2em;\n",
       "}\n",
       "\n",
       "#sk-container-id-1 div.sk-label-container {\n",
       "  text-align: center;\n",
       "}\n",
       "\n",
       "/* Estimator-specific */\n",
       "#sk-container-id-1 div.sk-estimator {\n",
       "  font-family: monospace;\n",
       "  border: 1px dotted var(--sklearn-color-border-box);\n",
       "  border-radius: 0.25em;\n",
       "  box-sizing: border-box;\n",
       "  margin-bottom: 0.5em;\n",
       "  /* unfitted */\n",
       "  background-color: var(--sklearn-color-unfitted-level-0);\n",
       "}\n",
       "\n",
       "#sk-container-id-1 div.sk-estimator.fitted {\n",
       "  /* fitted */\n",
       "  background-color: var(--sklearn-color-fitted-level-0);\n",
       "}\n",
       "\n",
       "/* on hover */\n",
       "#sk-container-id-1 div.sk-estimator:hover {\n",
       "  /* unfitted */\n",
       "  background-color: var(--sklearn-color-unfitted-level-2);\n",
       "}\n",
       "\n",
       "#sk-container-id-1 div.sk-estimator.fitted:hover {\n",
       "  /* fitted */\n",
       "  background-color: var(--sklearn-color-fitted-level-2);\n",
       "}\n",
       "\n",
       "/* Specification for estimator info (e.g. \"i\" and \"?\") */\n",
       "\n",
       "/* Common style for \"i\" and \"?\" */\n",
       "\n",
       ".sk-estimator-doc-link,\n",
       "a:link.sk-estimator-doc-link,\n",
       "a:visited.sk-estimator-doc-link {\n",
       "  float: right;\n",
       "  font-size: smaller;\n",
       "  line-height: 1em;\n",
       "  font-family: monospace;\n",
       "  background-color: var(--sklearn-color-background);\n",
       "  border-radius: 1em;\n",
       "  height: 1em;\n",
       "  width: 1em;\n",
       "  text-decoration: none !important;\n",
       "  margin-left: 1ex;\n",
       "  /* unfitted */\n",
       "  border: var(--sklearn-color-unfitted-level-1) 1pt solid;\n",
       "  color: var(--sklearn-color-unfitted-level-1);\n",
       "}\n",
       "\n",
       ".sk-estimator-doc-link.fitted,\n",
       "a:link.sk-estimator-doc-link.fitted,\n",
       "a:visited.sk-estimator-doc-link.fitted {\n",
       "  /* fitted */\n",
       "  border: var(--sklearn-color-fitted-level-1) 1pt solid;\n",
       "  color: var(--sklearn-color-fitted-level-1);\n",
       "}\n",
       "\n",
       "/* On hover */\n",
       "div.sk-estimator:hover .sk-estimator-doc-link:hover,\n",
       ".sk-estimator-doc-link:hover,\n",
       "div.sk-label-container:hover .sk-estimator-doc-link:hover,\n",
       ".sk-estimator-doc-link:hover {\n",
       "  /* unfitted */\n",
       "  background-color: var(--sklearn-color-unfitted-level-3);\n",
       "  color: var(--sklearn-color-background);\n",
       "  text-decoration: none;\n",
       "}\n",
       "\n",
       "div.sk-estimator.fitted:hover .sk-estimator-doc-link.fitted:hover,\n",
       ".sk-estimator-doc-link.fitted:hover,\n",
       "div.sk-label-container:hover .sk-estimator-doc-link.fitted:hover,\n",
       ".sk-estimator-doc-link.fitted:hover {\n",
       "  /* fitted */\n",
       "  background-color: var(--sklearn-color-fitted-level-3);\n",
       "  color: var(--sklearn-color-background);\n",
       "  text-decoration: none;\n",
       "}\n",
       "\n",
       "/* Span, style for the box shown on hovering the info icon */\n",
       ".sk-estimator-doc-link span {\n",
       "  display: none;\n",
       "  z-index: 9999;\n",
       "  position: relative;\n",
       "  font-weight: normal;\n",
       "  right: .2ex;\n",
       "  padding: .5ex;\n",
       "  margin: .5ex;\n",
       "  width: min-content;\n",
       "  min-width: 20ex;\n",
       "  max-width: 50ex;\n",
       "  color: var(--sklearn-color-text);\n",
       "  box-shadow: 2pt 2pt 4pt #999;\n",
       "  /* unfitted */\n",
       "  background: var(--sklearn-color-unfitted-level-0);\n",
       "  border: .5pt solid var(--sklearn-color-unfitted-level-3);\n",
       "}\n",
       "\n",
       ".sk-estimator-doc-link.fitted span {\n",
       "  /* fitted */\n",
       "  background: var(--sklearn-color-fitted-level-0);\n",
       "  border: var(--sklearn-color-fitted-level-3);\n",
       "}\n",
       "\n",
       ".sk-estimator-doc-link:hover span {\n",
       "  display: block;\n",
       "}\n",
       "\n",
       "/* \"?\"-specific style due to the `<a>` HTML tag */\n",
       "\n",
       "#sk-container-id-1 a.estimator_doc_link {\n",
       "  float: right;\n",
       "  font-size: 1rem;\n",
       "  line-height: 1em;\n",
       "  font-family: monospace;\n",
       "  background-color: var(--sklearn-color-background);\n",
       "  border-radius: 1rem;\n",
       "  height: 1rem;\n",
       "  width: 1rem;\n",
       "  text-decoration: none;\n",
       "  /* unfitted */\n",
       "  color: var(--sklearn-color-unfitted-level-1);\n",
       "  border: var(--sklearn-color-unfitted-level-1) 1pt solid;\n",
       "}\n",
       "\n",
       "#sk-container-id-1 a.estimator_doc_link.fitted {\n",
       "  /* fitted */\n",
       "  border: var(--sklearn-color-fitted-level-1) 1pt solid;\n",
       "  color: var(--sklearn-color-fitted-level-1);\n",
       "}\n",
       "\n",
       "/* On hover */\n",
       "#sk-container-id-1 a.estimator_doc_link:hover {\n",
       "  /* unfitted */\n",
       "  background-color: var(--sklearn-color-unfitted-level-3);\n",
       "  color: var(--sklearn-color-background);\n",
       "  text-decoration: none;\n",
       "}\n",
       "\n",
       "#sk-container-id-1 a.estimator_doc_link.fitted:hover {\n",
       "  /* fitted */\n",
       "  background-color: var(--sklearn-color-fitted-level-3);\n",
       "}\n",
       "</style><div id=\"sk-container-id-1\" class=\"sk-top-container\"><div class=\"sk-text-repr-fallback\"><pre>Pipeline(steps=[(&#x27;preprocessor&#x27;,\n",
       "                 ColumnTransformer(transformers=[(&#x27;num&#x27;, StandardScaler(),\n",
       "                                                  [&#x27;bathrooms&#x27;, &#x27;sqft_living&#x27;,\n",
       "                                                   &#x27;sqft_lot&#x27;, &#x27;waterfront&#x27;,\n",
       "                                                   &#x27;view&#x27;, &#x27;condition&#x27;, &#x27;grade&#x27;,\n",
       "                                                   &#x27;sqft_above&#x27;,\n",
       "                                                   &#x27;sqft_basement&#x27;, &#x27;yr_built&#x27;,\n",
       "                                                   &#x27;yr_renovated&#x27;, &#x27;zipcode&#x27;,\n",
       "                                                   &#x27;lat&#x27;, &#x27;long&#x27;,\n",
       "                                                   &#x27;sqft_living15&#x27;,\n",
       "                                                   &#x27;sqft_lot15&#x27;]),\n",
       "                                                 (&#x27;cat&#x27;,\n",
       "                                                  OneHotEncoder(handle_unknown=&#x27;ignore&#x27;),\n",
       "                                                  [&#x27;floors&#x27;,\n",
       "                                                   &#x27;yr_renovated_binary&#x27;,\n",
       "                                                   &#x27;bedrooms&#x27;])])),\n",
       "                (&#x27;classifier&#x27;,\n",
       "                 LogisticRegression(C=1, max_iter=2000, solver=&#x27;saga&#x27;))])</pre><b>In a Jupyter environment, please rerun this cell to show the HTML representation or trust the notebook. <br />On GitHub, the HTML representation is unable to render, please try loading this page with nbviewer.org.</b></div><div class=\"sk-container\" hidden><div class=\"sk-item sk-dashed-wrapped\"><div class=\"sk-label-container\"><div class=\"sk-label  sk-toggleable\"><input class=\"sk-toggleable__control sk-hidden--visually\" id=\"sk-estimator-id-1\" type=\"checkbox\" ><label for=\"sk-estimator-id-1\" class=\"sk-toggleable__label  sk-toggleable__label-arrow \">&nbsp;&nbsp;Pipeline<a class=\"sk-estimator-doc-link \" rel=\"noreferrer\" target=\"_blank\" href=\"https://scikit-learn.org/1.4/modules/generated/sklearn.pipeline.Pipeline.html\">?<span>Documentation for Pipeline</span></a><span class=\"sk-estimator-doc-link \">i<span>Not fitted</span></span></label><div class=\"sk-toggleable__content \"><pre>Pipeline(steps=[(&#x27;preprocessor&#x27;,\n",
       "                 ColumnTransformer(transformers=[(&#x27;num&#x27;, StandardScaler(),\n",
       "                                                  [&#x27;bathrooms&#x27;, &#x27;sqft_living&#x27;,\n",
       "                                                   &#x27;sqft_lot&#x27;, &#x27;waterfront&#x27;,\n",
       "                                                   &#x27;view&#x27;, &#x27;condition&#x27;, &#x27;grade&#x27;,\n",
       "                                                   &#x27;sqft_above&#x27;,\n",
       "                                                   &#x27;sqft_basement&#x27;, &#x27;yr_built&#x27;,\n",
       "                                                   &#x27;yr_renovated&#x27;, &#x27;zipcode&#x27;,\n",
       "                                                   &#x27;lat&#x27;, &#x27;long&#x27;,\n",
       "                                                   &#x27;sqft_living15&#x27;,\n",
       "                                                   &#x27;sqft_lot15&#x27;]),\n",
       "                                                 (&#x27;cat&#x27;,\n",
       "                                                  OneHotEncoder(handle_unknown=&#x27;ignore&#x27;),\n",
       "                                                  [&#x27;floors&#x27;,\n",
       "                                                   &#x27;yr_renovated_binary&#x27;,\n",
       "                                                   &#x27;bedrooms&#x27;])])),\n",
       "                (&#x27;classifier&#x27;,\n",
       "                 LogisticRegression(C=1, max_iter=2000, solver=&#x27;saga&#x27;))])</pre></div> </div></div><div class=\"sk-serial\"><div class=\"sk-item sk-dashed-wrapped\"><div class=\"sk-label-container\"><div class=\"sk-label  sk-toggleable\"><input class=\"sk-toggleable__control sk-hidden--visually\" id=\"sk-estimator-id-2\" type=\"checkbox\" ><label for=\"sk-estimator-id-2\" class=\"sk-toggleable__label  sk-toggleable__label-arrow \">&nbsp;preprocessor: ColumnTransformer<a class=\"sk-estimator-doc-link \" rel=\"noreferrer\" target=\"_blank\" href=\"https://scikit-learn.org/1.4/modules/generated/sklearn.compose.ColumnTransformer.html\">?<span>Documentation for preprocessor: ColumnTransformer</span></a></label><div class=\"sk-toggleable__content \"><pre>ColumnTransformer(transformers=[(&#x27;num&#x27;, StandardScaler(),\n",
       "                                 [&#x27;bathrooms&#x27;, &#x27;sqft_living&#x27;, &#x27;sqft_lot&#x27;,\n",
       "                                  &#x27;waterfront&#x27;, &#x27;view&#x27;, &#x27;condition&#x27;, &#x27;grade&#x27;,\n",
       "                                  &#x27;sqft_above&#x27;, &#x27;sqft_basement&#x27;, &#x27;yr_built&#x27;,\n",
       "                                  &#x27;yr_renovated&#x27;, &#x27;zipcode&#x27;, &#x27;lat&#x27;, &#x27;long&#x27;,\n",
       "                                  &#x27;sqft_living15&#x27;, &#x27;sqft_lot15&#x27;]),\n",
       "                                (&#x27;cat&#x27;, OneHotEncoder(handle_unknown=&#x27;ignore&#x27;),\n",
       "                                 [&#x27;floors&#x27;, &#x27;yr_renovated_binary&#x27;,\n",
       "                                  &#x27;bedrooms&#x27;])])</pre></div> </div></div><div class=\"sk-parallel\"><div class=\"sk-parallel-item\"><div class=\"sk-item\"><div class=\"sk-label-container\"><div class=\"sk-label  sk-toggleable\"><input class=\"sk-toggleable__control sk-hidden--visually\" id=\"sk-estimator-id-3\" type=\"checkbox\" ><label for=\"sk-estimator-id-3\" class=\"sk-toggleable__label  sk-toggleable__label-arrow \">num</label><div class=\"sk-toggleable__content \"><pre>[&#x27;bathrooms&#x27;, &#x27;sqft_living&#x27;, &#x27;sqft_lot&#x27;, &#x27;waterfront&#x27;, &#x27;view&#x27;, &#x27;condition&#x27;, &#x27;grade&#x27;, &#x27;sqft_above&#x27;, &#x27;sqft_basement&#x27;, &#x27;yr_built&#x27;, &#x27;yr_renovated&#x27;, &#x27;zipcode&#x27;, &#x27;lat&#x27;, &#x27;long&#x27;, &#x27;sqft_living15&#x27;, &#x27;sqft_lot15&#x27;]</pre></div> </div></div><div class=\"sk-serial\"><div class=\"sk-item\"><div class=\"sk-estimator  sk-toggleable\"><input class=\"sk-toggleable__control sk-hidden--visually\" id=\"sk-estimator-id-4\" type=\"checkbox\" ><label for=\"sk-estimator-id-4\" class=\"sk-toggleable__label  sk-toggleable__label-arrow \">&nbsp;StandardScaler<a class=\"sk-estimator-doc-link \" rel=\"noreferrer\" target=\"_blank\" href=\"https://scikit-learn.org/1.4/modules/generated/sklearn.preprocessing.StandardScaler.html\">?<span>Documentation for StandardScaler</span></a></label><div class=\"sk-toggleable__content \"><pre>StandardScaler()</pre></div> </div></div></div></div></div><div class=\"sk-parallel-item\"><div class=\"sk-item\"><div class=\"sk-label-container\"><div class=\"sk-label  sk-toggleable\"><input class=\"sk-toggleable__control sk-hidden--visually\" id=\"sk-estimator-id-5\" type=\"checkbox\" ><label for=\"sk-estimator-id-5\" class=\"sk-toggleable__label  sk-toggleable__label-arrow \">cat</label><div class=\"sk-toggleable__content \"><pre>[&#x27;floors&#x27;, &#x27;yr_renovated_binary&#x27;, &#x27;bedrooms&#x27;]</pre></div> </div></div><div class=\"sk-serial\"><div class=\"sk-item\"><div class=\"sk-estimator  sk-toggleable\"><input class=\"sk-toggleable__control sk-hidden--visually\" id=\"sk-estimator-id-6\" type=\"checkbox\" ><label for=\"sk-estimator-id-6\" class=\"sk-toggleable__label  sk-toggleable__label-arrow \">&nbsp;OneHotEncoder<a class=\"sk-estimator-doc-link \" rel=\"noreferrer\" target=\"_blank\" href=\"https://scikit-learn.org/1.4/modules/generated/sklearn.preprocessing.OneHotEncoder.html\">?<span>Documentation for OneHotEncoder</span></a></label><div class=\"sk-toggleable__content \"><pre>OneHotEncoder(handle_unknown=&#x27;ignore&#x27;)</pre></div> </div></div></div></div></div></div></div><div class=\"sk-item\"><div class=\"sk-estimator  sk-toggleable\"><input class=\"sk-toggleable__control sk-hidden--visually\" id=\"sk-estimator-id-7\" type=\"checkbox\" ><label for=\"sk-estimator-id-7\" class=\"sk-toggleable__label  sk-toggleable__label-arrow \">&nbsp;LogisticRegression<a class=\"sk-estimator-doc-link \" rel=\"noreferrer\" target=\"_blank\" href=\"https://scikit-learn.org/1.4/modules/generated/sklearn.linear_model.LogisticRegression.html\">?<span>Documentation for LogisticRegression</span></a></label><div class=\"sk-toggleable__content \"><pre>LogisticRegression(C=1, max_iter=2000, solver=&#x27;saga&#x27;)</pre></div> </div></div></div></div></div></div>"
      ],
      "text/plain": [
       "Pipeline(steps=[('preprocessor',\n",
       "                 ColumnTransformer(transformers=[('num', StandardScaler(),\n",
       "                                                  ['bathrooms', 'sqft_living',\n",
       "                                                   'sqft_lot', 'waterfront',\n",
       "                                                   'view', 'condition', 'grade',\n",
       "                                                   'sqft_above',\n",
       "                                                   'sqft_basement', 'yr_built',\n",
       "                                                   'yr_renovated', 'zipcode',\n",
       "                                                   'lat', 'long',\n",
       "                                                   'sqft_living15',\n",
       "                                                   'sqft_lot15']),\n",
       "                                                 ('cat',\n",
       "                                                  OneHotEncoder(handle_unknown='ignore'),\n",
       "                                                  ['floors',\n",
       "                                                   'yr_renovated_binary',\n",
       "                                                   'bedrooms'])])),\n",
       "                ('classifier',\n",
       "                 LogisticRegression(C=1, max_iter=2000, solver='saga'))])"
      ]
     },
     "execution_count": 25,
     "metadata": {},
     "output_type": "execute_result"
    }
   ],
   "source": [
    "# Display pipeline\n",
    "from sklearn import set_config\n",
    "\n",
    "set_config(display='diagram')\n",
    "clf"
   ]
  },
  {
   "cell_type": "markdown",
   "id": "6ddfdbe4-e6ce-42ab-a9df-eb2c389da189",
   "metadata": {},
   "source": [
    "### Machine Learning Pipeline for Binary Classification with Feature Engineering"
   ]
  },
  {
   "cell_type": "code",
   "execution_count": 26,
   "id": "0eac4c91-fcfc-4ac7-a9af-447f21f8df82",
   "metadata": {},
   "outputs": [
    {
     "name": "stdout",
     "output_type": "stream",
     "text": [
      "Training score: 0.960\n",
      "Test score: 0.963\n"
     ]
    }
   ],
   "source": [
    "from sklearn.model_selection import train_test_split\n",
    "from sklearn.preprocessing import StandardScaler, OneHotEncoder\n",
    "from sklearn.compose import ColumnTransformer\n",
    "from sklearn.pipeline import Pipeline\n",
    "from sklearn.linear_model import LogisticRegression, Ridge, Lasso\n",
    "from sklearn.metrics import accuracy_score, confusion_matrix\n",
    "import category_encoders as ce\n",
    "\n",
    "# Convert column names to strings\n",
    "housing_df.columns = housing_df.columns.astype(str)\n",
    "\n",
    "# Partition dataset\n",
    "X = housing_df.drop(columns=['price_gt_1M'])  # Exclude target variable\n",
    "y = housing_df['price_gt_1M']\n",
    "\n",
    "# Splits data into training and testing\n",
    "X_train, X_test, y_train, y_test = train_test_split(X, y, test_size=0.2, random_state=73)\n",
    "\n",
    "# Target encoding for categorical columns\n",
    "target_encoder = ce.TargetEncoder(cols=categorical_cols)\n",
    "X_train_encoded = target_encoder.fit_transform(X_train, y_train)\n",
    "X_test_encoded = target_encoder.transform(X_test)\n",
    "\n",
    "clf.fit(X_train_encoded, y_train)\n",
    "\n",
    "print(\"Training score: %.3f\" % clf.score(X_train_encoded, y_train))\n",
    "print(\"Test score: %.3f\" % clf.score(X_test_encoded, y_test))\n"
   ]
  },
  {
   "cell_type": "markdown",
   "id": "0bdafdf6-4088-4a88-acce-f0c0d0b35929",
   "metadata": {},
   "source": [
    "#### Model 0: Null Model "
   ]
  },
  {
   "cell_type": "code",
   "execution_count": 27,
   "id": "048db804-d721-456d-b83e-20b25a0a9d2f",
   "metadata": {
    "scrolled": true
   },
   "outputs": [
    {
     "name": "stdout",
     "output_type": "stream",
     "text": [
      "Null Model - Training score: 0.929\n",
      "Null Model - Test score: 0.935\n",
      "Null Model - Training Confusion Matrix:\n",
      "[[15934     0]\n",
      " [ 1209     0]]\n",
      "\n",
      "Null Model - Test Confusion Matrix:\n",
      "[[4009    0]\n",
      " [ 277    0]]\n"
     ]
    }
   ],
   "source": [
    "# Null model\n",
    "from sklearn.dummy import DummyClassifier\n",
    "\n",
    "# Create a dummy classifier predicting the most frequent class\n",
    "null_model = DummyClassifier(strategy='most_frequent')\n",
    "\n",
    "# Fit the null model\n",
    "null_model.fit(X_train, y_train)\n",
    "\n",
    "# Predict on training and test data\n",
    "y_train_pred_null = null_model.predict(X_train)\n",
    "y_test_pred_null = null_model.predict(X_test)\n",
    "\n",
    "# Evaluate the null model\n",
    "train_accuracy_null = accuracy_score(y_train, y_train_pred_null)\n",
    "test_accuracy_null = accuracy_score(y_test, y_test_pred_null)\n",
    "\n",
    "train_conf_matrix_null = confusion_matrix(y_train, y_train_pred_null)\n",
    "test_conf_matrix_null = confusion_matrix(y_test, y_test_pred_null)\n",
    "\n",
    "# Print accuracy \n",
    "print(\"Null Model - Training score: {:.3f}\".format(train_accuracy_null))\n",
    "print(\"Null Model - Test score: {:.3f}\".format(test_accuracy_null))\n",
    "\n",
    "# Print confusion matrix\n",
    "print(\"Null Model - Training Confusion Matrix:\")\n",
    "print(train_conf_matrix_null)\n",
    "print(\"\\nNull Model - Test Confusion Matrix:\")\n",
    "print(test_conf_matrix_null)\n"
   ]
  },
  {
   "cell_type": "markdown",
   "id": "cee981b6-aa46-47e0-82ed-bd373215e1f0",
   "metadata": {},
   "source": [
    "#### Model 1: Ridge regression with C=1.0"
   ]
  },
  {
   "cell_type": "code",
   "execution_count": 48,
   "id": "616055f8-8fed-4ccd-b065-a19fbb941ecd",
   "metadata": {},
   "outputs": [
    {
     "name": "stdout",
     "output_type": "stream",
     "text": [
      "Training score: 0.960\n",
      "Test score: 0.963\n",
      "Confusion Matrix for Ridge Model (Test Set):\n",
      "[[3952   57]\n",
      " [ 101  176]]\n",
      "Prediction Scores (Probabilities) for Ridge Model (Training Set):\n",
      "[[9.99747238e-01 2.52761594e-04]\n",
      " [9.92719017e-01 7.28098314e-03]\n",
      " [9.99330701e-01 6.69299449e-04]\n",
      " ...\n",
      " [9.98536245e-01 1.46375547e-03]\n",
      " [9.98465922e-01 1.53407786e-03]\n",
      " [9.95039836e-01 4.96016424e-03]]\n",
      "Prediction Scores (Probabilities) for Ridge Model (Test Set):\n",
      "[[0.99141678 0.00858322]\n",
      " [0.99871364 0.00128636]\n",
      " [0.99599659 0.00400341]\n",
      " ...\n",
      " [0.1044451  0.8955549 ]\n",
      " [0.98152131 0.01847869]\n",
      " [0.9989776  0.0010224 ]]\n"
     ]
    }
   ],
   "source": [
    "from sklearn.metrics import confusion_matrix\n",
    "\n",
    "# Classifier\n",
    "clf_model_ridge = LogisticRegression(penalty='l2', C=1.0, solver='saga', max_iter=2000)\n",
    "\n",
    "# Append classifier to preprocessing pipeline\n",
    "clf_ridge = Pipeline(steps=[('preprocessor', preprocessor),\n",
    "                      ('classifier', clf_model_ridge)])\n",
    "\n",
    "# Fit model on training data\n",
    "clf_ridge.fit(X_train_encoded, y_train)\n",
    "\n",
    "print(\"Training score: %.3f\" % clf_ridge.score(X_train_encoded, y_train))\n",
    "print(\"Test score: %.3f\" % clf_ridge.score(X_test_encoded, y_test))\n",
    "\n",
    "# Make predictions on test data\n",
    "y_test_pred_ridge = clf_ridge.predict(X_test_encoded)\n",
    "\n",
    "# Calculate confusion matrix for test data\n",
    "conf_matrix_test_ridge = confusion_matrix(y_test, y_test_pred_ridge)\n",
    "print(\"Confusion Matrix for Ridge Model (Test Set):\")\n",
    "print(conf_matrix_test_ridge)\n",
    "\n",
    "# Print prediction scores (probabilities) for training and test data\n",
    "y_train_proba_ridge = clf_ridge.predict_proba(X_train_encoded)\n",
    "y_test_proba_ridge = clf_ridge.predict_proba(X_test_encoded)\n",
    "\n",
    "print(\"Prediction Scores (Probabilities) for Ridge Model (Training Set):\")\n",
    "print(y_train_proba_ridge)\n",
    "print(\"Prediction Scores (Probabilities) for Ridge Model (Test Set):\")\n",
    "print(y_test_proba_ridge)"
   ]
  },
  {
   "cell_type": "code",
   "execution_count": 39,
   "id": "1fc630db-1424-4029-bdb9-9761f073807a",
   "metadata": {},
   "outputs": [
    {
     "data": {
      "text/plain": [
       "0.9456344310612665"
      ]
     },
     "execution_count": 39,
     "metadata": {},
     "output_type": "execute_result"
    }
   ],
   "source": [
    "# Cross validation\n",
    "cross_val_score(clf_model_ridge, X, y, cv=5, scoring='accuracy').mean()"
   ]
  },
  {
   "cell_type": "markdown",
   "id": "732e2d88-2399-4f92-bf7b-23c801bf33e4",
   "metadata": {},
   "source": [
    "#### Model 2: Lasso regression with C=1.0"
   ]
  },
  {
   "cell_type": "code",
   "execution_count": 49,
   "id": "14c35e28-ec2b-4837-b60e-d403f5c49208",
   "metadata": {},
   "outputs": [
    {
     "name": "stdout",
     "output_type": "stream",
     "text": [
      "Training score: 0.960\n",
      "Test score: 0.963\n",
      "Confusion Matrix for Lasso Model (Training Set):\n",
      "[[15728   206]\n",
      " [  478   731]]\n",
      "Confusion Matrix for Lasso Model (Test Set):\n",
      "[[3951   58]\n",
      " [ 101  176]]\n",
      "Prediction Scores (Probabilities) for Lasso Model (Training Set):\n",
      "[[9.99739522e-01 2.60477648e-04]\n",
      " [9.92553420e-01 7.44657960e-03]\n",
      " [9.99351318e-01 6.48681824e-04]\n",
      " ...\n",
      " [9.98595132e-01 1.40486829e-03]\n",
      " [9.98456378e-01 1.54362157e-03]\n",
      " [9.94925789e-01 5.07421101e-03]]\n",
      "Prediction Scores (Probabilities) for Lasso Model (Test Set):\n",
      "[[0.99180918 0.00819082]\n",
      " [0.99868569 0.00131431]\n",
      " [0.99589554 0.00410446]\n",
      " ...\n",
      " [0.10363629 0.89636371]\n",
      " [0.98149702 0.01850298]\n",
      " [0.99894983 0.00105017]]\n"
     ]
    }
   ],
   "source": [
    "# Classifier\n",
    "clf_model_lasso_C1 = LogisticRegression(penalty='l1', C=1.0, solver='saga', max_iter=2000)\n",
    "\n",
    "# Append classifier to preprocessing pipeline\n",
    "clf_lasso = Pipeline(steps=[('preprocessor', preprocessor),\n",
    "                      ('classifier', clf_model_lasso_C1)])\n",
    "\n",
    "# Fit model on training data\n",
    "clf_lasso.fit(X_train_encoded, y_train)\n",
    "\n",
    "print(f\"Training score: {clf_lasso.score(X_train_encoded, y_train):.3f}\")\n",
    "print(f\"Test score: {clf_lasso.score(X_test_encoded, y_test):.3f}\")\n",
    "\n",
    "# Make predictions on training and test data\n",
    "y_train_pred_lasso = clf_lasso.predict(X_train_encoded)\n",
    "y_test_pred_lasso = clf_lasso.predict(X_test_encoded)\n",
    "\n",
    "# Calculate confusion matrix for training and test data\n",
    "conf_matrix_train_lasso = confusion_matrix(y_train, y_train_pred_lasso)\n",
    "conf_matrix_test_lasso = confusion_matrix(y_test, y_test_pred_lasso)\n",
    "\n",
    "print(\"Confusion Matrix for Lasso Model (Training Set):\")\n",
    "print(conf_matrix_train_lasso)\n",
    "print(\"Confusion Matrix for Lasso Model (Test Set):\")\n",
    "print(conf_matrix_test_lasso)\n",
    "\n",
    "# Print prediction scores (probabilities) for training and test data\n",
    "y_train_proba_lasso = clf_lasso.predict_proba(X_train_encoded)\n",
    "y_test_proba_lasso = clf_lasso.predict_proba(X_test_encoded)\n",
    "\n",
    "print(\"Prediction Scores (Probabilities) for Lasso Model (Training Set):\")\n",
    "print(y_train_proba_lasso)\n",
    "print(\"Prediction Scores (Probabilities) for Lasso Model (Test Set):\")\n",
    "print(y_test_proba_lasso)"
   ]
  },
  {
   "cell_type": "code",
   "execution_count": 40,
   "id": "2973ce2c-4065-44e5-b79d-5448925b7e18",
   "metadata": {},
   "outputs": [
    {
     "data": {
      "text/plain": [
       "0.9456344310612665"
      ]
     },
     "execution_count": 40,
     "metadata": {},
     "output_type": "execute_result"
    }
   ],
   "source": [
    "# Cross validation\n",
    "cross_val_score(clf_model_lasso_C1, X, y, cv=5, scoring='accuracy').mean()"
   ]
  },
  {
   "cell_type": "markdown",
   "id": "efb2b63e-68cc-4a72-8910-fe442ae25a60",
   "metadata": {},
   "source": [
    "#### Model 3: Lasso regression with C=0.01"
   ]
  },
  {
   "cell_type": "code",
   "execution_count": 47,
   "id": "397b0bcf-d6a3-471c-9719-96d6904a9002",
   "metadata": {},
   "outputs": [
    {
     "name": "stdout",
     "output_type": "stream",
     "text": [
      "Training score: 0.960\n",
      "Test score: 0.963\n",
      "Confusion Matrix for Lasso Model with C=0.01 (Training Set):\n",
      "[[15803   131]\n",
      " [  588   621]]\n",
      "Confusion Matrix for Lasso Model with C=0.01 (Test Set):\n",
      "[[3976   33]\n",
      " [ 119  158]]\n",
      "Prediction Scores (Probabilities) for Lasso Model with C=0.01 (Test Set):\n",
      "[[0.98858524 0.01141476]\n",
      " [0.99525397 0.00474603]\n",
      " [0.98234507 0.01765493]\n",
      " ...\n",
      " [0.226201   0.773799  ]\n",
      " [0.97562559 0.02437441]\n",
      " [0.98552912 0.01447088]]\n",
      "Prediction Scores (Probabilities) for Lasso Model with C=0.01 (Training Set):\n",
      "[[0.99847139 0.00152861]\n",
      " [0.97020213 0.02979787]\n",
      " [0.99592027 0.00407973]\n",
      " ...\n",
      " [0.99585178 0.00414822]\n",
      " [0.99339204 0.00660796]\n",
      " [0.9867584  0.0132416 ]]\n"
     ]
    }
   ],
   "source": [
    "# Classifier\n",
    "clf_model_lasso_C01 = LogisticRegression(penalty='l1', C=0.01, solver='saga', max_iter=2000)\n",
    "\n",
    "# Append classifier to preprocessing pipeline\n",
    "clf_lasso_C01 = Pipeline(steps=[('preprocessor', preprocessor),\n",
    "                      ('classifier', clf_model_lasso_C01)])\n",
    "\n",
    "# Fit model on training data\n",
    "clf_lasso_C01.fit(X_train_encoded, y_train)\n",
    "\n",
    "print(\"Training score: %.3f\" % clf_lasso.score(X_train_encoded, y_train))\n",
    "print(\"Test score: %.3f\" % clf_lasso.score(X_test_encoded, y_test))\n",
    "\n",
    "# Make predictions on training and test data\n",
    "y_train_pred_lasso_C01 = clf_lasso_C01.predict(X_train_encoded)\n",
    "y_test_pred_lasso_C01 = clf_lasso_C01.predict(X_test_encoded)\n",
    "\n",
    "# Calculate confusion matrix for training and test data\n",
    "conf_matrix_train_lasso_C01 = confusion_matrix(y_train, y_train_pred_lasso_C01)\n",
    "conf_matrix_test_lasso_C01 = confusion_matrix(y_test, y_test_pred_lasso_C01)\n",
    "\n",
    "print(\"Confusion Matrix for Lasso Model with C=0.01 (Training Set):\")\n",
    "print(conf_matrix_train_lasso_C01)\n",
    "print(\"Confusion Matrix for Lasso Model with C=0.01 (Test Set):\")\n",
    "print(conf_matrix_test_lasso_C01)\n",
    "\n",
    "# Print prediction scores (probabilities) for test data\n",
    "y_test_proba_lasso_C01 = clf_lasso_C01.predict_proba(X_test_encoded)\n",
    "print(\"Prediction Scores (Probabilities) for Lasso Model with C=0.01 (Test Set):\")\n",
    "print(y_test_proba_lasso_C01)\n",
    "\n",
    "# Print prediction scores (probabilities) for training data\n",
    "y_train_proba_lasso_C01 = clf_lasso_C01.predict_proba(X_train_encoded)\n",
    "print(\"Prediction Scores (Probabilities) for Lasso Model with C=0.01 (Training Set):\")\n",
    "print(y_train_proba_lasso_C01)"
   ]
  },
  {
   "cell_type": "code",
   "execution_count": 41,
   "id": "f3343d1a-43f0-436a-b698-4769e87a3a7b",
   "metadata": {},
   "outputs": [
    {
     "data": {
      "text/plain": [
       "0.9456344310612665"
      ]
     },
     "execution_count": 41,
     "metadata": {},
     "output_type": "execute_result"
    }
   ],
   "source": [
    "# Cross validation\n",
    "cross_val_score(clf_model_lasso_C01, X, y, cv=5, scoring='accuracy').mean()"
   ]
  },
  {
   "cell_type": "code",
   "execution_count": 33,
   "id": "2e3b54f0-2408-419d-9d7e-f64d460d8008",
   "metadata": {},
   "outputs": [
    {
     "name": "stdout",
     "output_type": "stream",
     "text": [
      "\n",
      "Model 3: Lasso regression with C=0.01\n",
      "Training score: 0.956\n",
      "Test score: 0.958\n",
      "Training Confusion Matrix:\n",
      "[[15621   313]\n",
      " [  439   770]]\n",
      "\n",
      "Test Confusion Matrix:\n",
      "[[3918   91]\n",
      " [  87  190]]\n"
     ]
    }
   ],
   "source": [
    "# Lasso regression with C=0.01\n",
    "lasso_model_3 = LogisticRegression(C=0.01, penalty='l1', solver='liblinear')\n",
    "\n",
    "# Create pipeline for preprocessing and classifier\n",
    "lasso_pipeline_3 = Pipeline(steps=[\n",
    "    ('preprocessor', preprocessor),\n",
    "    ('classifier', lasso_model_3)\n",
    "])\n",
    "\n",
    "# Fit the model\n",
    "lasso_pipeline_3.fit(X_train_encoded, y_train)\n",
    "\n",
    "# Predict on training and test data\n",
    "y_train_pred_lasso_3 = lasso_pipeline_3.predict(X_train)\n",
    "y_test_pred_lasso_3 = lasso_pipeline_3.predict(X_test)\n",
    "\n",
    "# Convert continuous predictions to binary labels\n",
    "threshold = 0.5  # Define a threshold for converting continuous predictions to binary labels\n",
    "y_train_pred_lasso_3_binary = (y_train_pred_lasso_3 > threshold).astype(int)\n",
    "y_test_pred_lasso_3_binary = (y_test_pred_lasso_3 > threshold).astype(int)\n",
    "\n",
    "# Evaluate model\n",
    "train_accuracy_lasso_3 = accuracy_score(y_train, y_train_pred_lasso_3_binary)\n",
    "test_accuracy_lasso_3 = accuracy_score(y_test, y_test_pred_lasso_3_binary)\n",
    "\n",
    "train_conf_matrix_lasso_3 = confusion_matrix(y_train, y_train_pred_lasso_3_binary)\n",
    "test_conf_matrix_lasso_3 = confusion_matrix(y_test, y_test_pred_lasso_3_binary)\n",
    "\n",
    "# Print accuracy \n",
    "print(\"\\nModel 3: Lasso regression with C=0.01\")\n",
    "print(f\"Training score: {train_accuracy_lasso_3:.3f}\")\n",
    "print(f\"Test score: {test_accuracy_lasso_3:.3f}\")\n",
    "\n",
    "# Print confusion matrix\n",
    "print(\"Training Confusion Matrix:\")\n",
    "print(train_conf_matrix_lasso_3)\n",
    "print(\"\\nTest Confusion Matrix:\")\n",
    "print(test_conf_matrix_lasso_3)\n",
    "\n"
   ]
  },
  {
   "cell_type": "markdown",
   "id": "f28b62f7-9a93-450b-bcc7-b89efa1e9b82",
   "metadata": {},
   "source": [
    "#### Model 4: Lasso regression with optimal C value"
   ]
  },
  {
   "cell_type": "code",
   "execution_count": 34,
   "id": "53069978-3bb5-44df-8d7f-bdcb590a529c",
   "metadata": {},
   "outputs": [
    {
     "name": "stdout",
     "output_type": "stream",
     "text": [
      "\n",
      "Model 4: Lasso regression with optimal C value\n",
      "Training score: 0.959\n",
      "Test score: 0.962\n",
      "Training Confusion Matrix:\n",
      "[[15634   300]\n",
      " [  398   811]]\n",
      "\n",
      "Test Confusion Matrix:\n",
      "[[3924   85]\n",
      " [  77  200]]\n",
      "Optimal value of C: [0.04641589]\n"
     ]
    }
   ],
   "source": [
    "# Lasso regression with optimal C value\n",
    "from sklearn.linear_model import LogisticRegressionCV\n",
    "\n",
    "# Lasso regression with optimal C value using LogisticRegressionCV\n",
    "lasso_model_cv = LogisticRegressionCV(cv=5, penalty='l1', solver='liblinear')\n",
    "\n",
    "# Create pipeline for preprocessing and classifier\n",
    "lasso_pipeline_cv = Pipeline(steps=[\n",
    "    ('preprocessor', preprocessor),\n",
    "    ('classifier', lasso_model_cv)\n",
    "])\n",
    "\n",
    "# Fit the model\n",
    "lasso_pipeline_cv.fit(X_train_encoded, y_train)\n",
    "\n",
    "# Predict on training and test data\n",
    "y_train_pred_lasso_cv = lasso_pipeline_cv.predict(X_train)\n",
    "y_test_pred_lasso_cv = lasso_pipeline_cv.predict(X_test)\n",
    "\n",
    "# Convert continuous predictions to binary labels\n",
    "threshold = 0.5  # Define a threshold for converting continuous predictions to binary labels\n",
    "y_train_pred_lasso_cv_binary = (y_train_pred_lasso_cv > threshold).astype(int)\n",
    "y_test_pred_lasso_cv_binary = (y_test_pred_lasso_cv > threshold).astype(int)\n",
    "\n",
    "# Evaluate model\n",
    "train_accuracy_lasso_cv = accuracy_score(y_train, y_train_pred_lasso_cv_binary)\n",
    "test_accuracy_lasso_cv = accuracy_score(y_test, y_test_pred_lasso_cv_binary)\n",
    "\n",
    "train_conf_matrix_lasso_cv = confusion_matrix(y_train, y_train_pred_lasso_cv_binary)\n",
    "test_conf_matrix_lasso_cv = confusion_matrix(y_test, y_test_pred_lasso_cv_binary)\n",
    "\n",
    "# Print accuracy \n",
    "print(\"\\nModel 4: Lasso regression with optimal C value\")\n",
    "print(f\"Training score: {train_accuracy_lasso_cv:.3f}\")\n",
    "print(f\"Test score: {test_accuracy_lasso_cv:.3f}\")\n",
    "\n",
    "# Print confusion matrix\n",
    "print(\"Training Confusion Matrix:\")\n",
    "print(train_conf_matrix_lasso_cv)\n",
    "print(\"\\nTest Confusion Matrix:\")\n",
    "print(test_conf_matrix_lasso_cv)\n",
    "\n",
    "# Print optimal value of C\n",
    "print(f\"Optimal value of C: {lasso_model_cv.C_}\")"
   ]
  },
  {
   "cell_type": "code",
   "execution_count": 42,
   "id": "75c9087d-ccb1-4e92-a489-c2bba6fc015a",
   "metadata": {},
   "outputs": [
    {
     "data": {
      "text/plain": [
       "0.9572074175996201"
      ]
     },
     "execution_count": 42,
     "metadata": {},
     "output_type": "execute_result"
    }
   ],
   "source": [
    "cross_val_score(lasso_model_cv, X, y, cv=5, scoring='accuracy').mean()"
   ]
  },
  {
   "cell_type": "markdown",
   "id": "18777224-ce24-4a73-bdee-d34ce8451e7c",
   "metadata": {},
   "source": [
    "#### Model 5: Simple decision tree"
   ]
  },
  {
   "cell_type": "code",
   "execution_count": 35,
   "id": "973f0860-67ee-4a2e-a345-ea6da9e5a5dd",
   "metadata": {},
   "outputs": [
    {
     "name": "stdout",
     "output_type": "stream",
     "text": [
      "\n",
      "Simple Decision Tree Model\n",
      "Training score: 1.000\n",
      "Test score: 0.959\n",
      "Training Confusion Matrix:\n",
      "[[15934     0]\n",
      " [    2  1207]]\n",
      "\n",
      "Test Confusion Matrix:\n",
      "[[3907  102]\n",
      " [  72  205]]\n"
     ]
    }
   ],
   "source": [
    "from sklearn.tree import DecisionTreeClassifier\n",
    "\n",
    "# Simple decision tree model\n",
    "decision_tree_model = DecisionTreeClassifier(random_state=42)\n",
    "\n",
    "# Create pipeline for preprocessing and classifier\n",
    "decision_tree_pipeline = Pipeline(steps=[\n",
    "    ('preprocessor', preprocessor),\n",
    "    ('classifier', decision_tree_model)\n",
    "])\n",
    "\n",
    "# Fit the model\n",
    "decision_tree_pipeline.fit(X_train, y_train)\n",
    "\n",
    "# Predict on training and test data\n",
    "y_train_pred_tree = decision_tree_pipeline.predict(X_train)\n",
    "y_test_pred_tree = decision_tree_pipeline.predict(X_test)\n",
    "\n",
    "# Convert continuous predictions to binary labels\n",
    "threshold = 0.5  # Define a threshold for converting continuous predictions to binary labels\n",
    "y_train_pred_tree_binary = (y_train_pred_tree > threshold).astype(int)\n",
    "y_test_pred_tree_binary = (y_test_pred_tree > threshold).astype(int)\n",
    "\n",
    "# Evaluate model\n",
    "train_accuracy_tree = accuracy_score(y_train, y_train_pred_tree_binary)\n",
    "test_accuracy_tree = accuracy_score(y_test, y_test_pred_tree_binary)\n",
    "\n",
    "train_conf_matrix_tree = confusion_matrix(y_train, y_train_pred_tree_binary)\n",
    "test_conf_matrix_tree = confusion_matrix(y_test, y_test_pred_tree_binary)\n",
    "\n",
    "# Print accuracy \n",
    "print(\"\\nSimple Decision Tree Model\")\n",
    "print(f\"Training score: {train_accuracy_tree:.3f}\")\n",
    "print(f\"Test score: {test_accuracy_tree:.3f}\")\n",
    "\n",
    "# Print confusion matrix\n",
    "print(\"Training Confusion Matrix:\")\n",
    "print(train_conf_matrix_tree)\n",
    "print(\"\\nTest Confusion Matrix:\")\n",
    "print(test_conf_matrix_tree)"
   ]
  },
  {
   "cell_type": "code",
   "execution_count": 43,
   "id": "6a179cba-97ef-409e-ace3-2e7705d126b5",
   "metadata": {},
   "outputs": [
    {
     "data": {
      "text/plain": [
       "0.9578139784846705"
      ]
     },
     "execution_count": 43,
     "metadata": {},
     "output_type": "execute_result"
    }
   ],
   "source": [
    "cross_val_score(decision_tree_model, X, y, cv=5, scoring='accuracy').mean()"
   ]
  },
  {
   "cell_type": "markdown",
   "id": "c3dd5f9a-1a19-4c46-8e4e-9a005a0fd3ca",
   "metadata": {},
   "source": [
    "**Hacker Extra:**"
   ]
  },
  {
   "cell_type": "code",
   "execution_count": null,
   "id": "4b27eb1c-4433-4397-bb95-831c839006f9",
   "metadata": {},
   "outputs": [],
   "source": [
    "from sklearn.tree import plot_tree\n",
    "\n",
    "# Display the fitted decision tree\n",
    "plt.figure(figsize=(20,10))\n",
    "plot_tree(decision_tree_model, feature_names=X_train.columns, class_names=[\"<= 1M\", \"> 1M\"], filled=True, fontsize=10)\n",
    "plt.show()"
   ]
  },
  {
   "cell_type": "markdown",
   "id": "57441576-6a27-4e0a-937f-140ff49c2271",
   "metadata": {},
   "source": [
    "### Task 6: Error exploration"
   ]
  },
  {
   "cell_type": "code",
   "execution_count": null,
   "id": "a541e8b0-d1d8-4636-9861-03e6f723592c",
   "metadata": {},
   "outputs": [],
   "source": []
  }
 ],
 "metadata": {
  "kernelspec": {
   "display_name": "Python 3 (ipykernel)",
   "language": "python",
   "name": "python3"
  },
  "language_info": {
   "codemirror_mode": {
    "name": "ipython",
    "version": 3
   },
   "file_extension": ".py",
   "mimetype": "text/x-python",
   "name": "python",
   "nbconvert_exporter": "python",
   "pygments_lexer": "ipython3",
   "version": "3.12.3"
  }
 },
 "nbformat": 4,
 "nbformat_minor": 5
}
